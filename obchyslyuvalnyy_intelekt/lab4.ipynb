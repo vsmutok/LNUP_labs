{
 "cells": [
  {
   "cell_type": "markdown",
   "source": [
    "# Країна: Гайана\n",
    "\n",
    "### Загальна інформація\n",
    "\n",
    "- **Площа**: Загальна площа Гайани становить близько 214 970 квадратних кілометрів.\n",
    "\n",
    "- **Населення**: Гайана має приблизно 780 000 жителів.\n",
    "\n",
    "- **Державний устрій**: Гайана є республікою з парламентською демократією.\n",
    "\n",
    "### Видатні особистості\n",
    "\n",
    "Декілька видатних особистостей Гайани:\n",
    "\n",
    "1. _Чедвік Джаган_: Перший президент незалежної Гайани.\n",
    "\n",
    "2. _Валтер Родні_ Родні: Відомий гайанський письменник та поет.\n",
    "\n",
    "### Пам'ятки культури та природи\n",
    "\n",
    "- **Кайетур Фолс**: Величезний водоспад на річці Потаро.\n",
    "\n",
    "- **Стара Гайанська містерія**: Історична будівля в столиці Джорджтаун.\n",
    "\n",
    "### Прапор Гайани\n",
    "    \n",
    "<img src=\"https://upload.wikimedia.org/wikipedia/commons/thumb/9/99/Flag_of_Guyana.svg/1200px-Flag_of_Guyana.svg.png\" alt=\"Гайани\" width=\"400\" height=\"240\">\n",
    "\n",
    "\n",
    "Дізнайтеся більше про [Гайану](https://uk.wikipedia.org/wiki/%D0%93%D0%B0%D0%B9%D0%B0%D0%BD%D0%B0).\n"
   ],
   "metadata": {
    "collapsed": false
   },
   "id": "b0ffffb4147e9a6f"
  },
  {
   "cell_type": "code",
   "execution_count": 2,
   "outputs": [],
   "source": [
    "def find_middle(numbers):\n",
    "    # Розділяємо введений рядок на числа та перетворюємо їх у список цілих чисел\n",
    "    numbers = [int(num) for num in numbers.split()]\n",
    "\n",
    "    # Сортуємо список\n",
    "    sorted_numbers = sorted(numbers)\n",
    "\n",
    "    # Знаходимо середній(середні) елемент(и)\n",
    "    middle_index = len(sorted_numbers) // 2\n",
    "\n",
    "    if len(sorted_numbers) % 2 == 1:\n",
    "        middle = sorted_numbers[middle_index]\n",
    "    else:\n",
    "        middle = (sorted_numbers[middle_index - 1], sorted_numbers[middle_index])\n",
    "\n",
    "    return middle"
   ],
   "metadata": {
    "collapsed": false,
    "ExecuteTime": {
     "end_time": "2023-10-11T20:03:23.998284Z",
     "start_time": "2023-10-11T20:03:23.975678Z"
    }
   },
   "id": "d6c1ed6045cd1618"
  },
  {
   "cell_type": "code",
   "execution_count": 3,
   "outputs": [],
   "source": [
    "def task_3():\n",
    "    input_numbers = input(\"Введіть список цілих чисел через пробіл: \")\n",
    "    middle = find_middle(input_numbers)\n",
    "    print(\"Середина відсортованого списку:\", middle)"
   ],
   "metadata": {
    "collapsed": false,
    "ExecuteTime": {
     "end_time": "2023-10-11T20:03:39.566824Z",
     "start_time": "2023-10-11T20:03:39.554190Z"
    }
   },
   "id": "49accb200879ced7"
  },
  {
   "cell_type": "code",
   "execution_count": 7,
   "outputs": [
    {
     "name": "stdout",
     "output_type": "stream",
     "text": [
      "Середина відсортованого списку: (3, 4)\n"
     ]
    }
   ],
   "source": [
    "if __name__ == \"__main__\":\n",
    "    task_3()"
   ],
   "metadata": {
    "collapsed": false,
    "ExecuteTime": {
     "end_time": "2023-10-11T20:05:51.921222Z",
     "start_time": "2023-10-11T20:04:50.810146Z"
    }
   },
   "id": "1669013868227a2e"
  }
 ],
 "metadata": {
  "kernelspec": {
   "display_name": "Python 3",
   "language": "python",
   "name": "python3"
  },
  "language_info": {
   "codemirror_mode": {
    "name": "ipython",
    "version": 2
   },
   "file_extension": ".py",
   "mimetype": "text/x-python",
   "name": "python",
   "nbconvert_exporter": "python",
   "pygments_lexer": "ipython2",
   "version": "2.7.6"
  }
 },
 "nbformat": 4,
 "nbformat_minor": 5
}
